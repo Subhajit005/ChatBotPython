{
 "cells": [
  {
   "cell_type": "code",
   "execution_count": null,
   "id": "a6c10f4a",
   "metadata": {},
   "outputs": [],
   "source": [
    "    from sklearn.datasets import fetch_20newsgroups\n",
    "    text_data = fetch_20newsgroups()\n"
   ]
  },
  {
   "cell_type": "code",
   "execution_count": null,
   "id": "1e4973ea",
   "metadata": {},
   "outputs": [],
   "source": [
    "    type(text_data)"
   ]
  },
  {
   "cell_type": "code",
   "execution_count": null,
   "id": "7f19ad86",
   "metadata": {},
   "outputs": [],
   "source": []
  }
 ],
 "metadata": {
  "kernelspec": {
   "display_name": "Python 3",
   "language": "python",
   "name": "python3"
  },
  "language_info": {
   "codemirror_mode": {
    "name": "ipython",
    "version": 3
   },
   "file_extension": ".py",
   "mimetype": "text/x-python",
   "name": "python",
   "nbconvert_exporter": "python",
   "pygments_lexer": "ipython3",
   "version": "3.8.8"
  }
 },
 "nbformat": 4,
 "nbformat_minor": 5
}
